{
 "cells": [
  {
   "cell_type": "code",
   "execution_count": 3,
   "metadata": {},
   "outputs": [],
   "source": [
    "\n",
    "\"\"\"\n",
    "Created on Sat Feb  8 20:34:39 2020\n",
    "\n",
    "@author: Moji H Ssafa\n",
    "this script is for processing the scrapy csv output\n",
    "\"\"\"\n",
    "\n",
    "import pandas as pd\n",
    "from collections import Counter\n",
    "import matplotlib.pyplot as plt \n",
    "shows = pd.read_csv('C:\\\\Users\\\\Moji\\\\Documents\\\\spiders\\\\imdb_spider\\\\top_shows.csv')\n",
    "\n",
    "\n",
    "\n",
    " "
   ]
  },
  {
   "cell_type": "code",
   "execution_count": 4,
   "metadata": {},
   "outputs": [
    {
     "data": {
      "text/plain": [
       "[('Drama', 79),\n",
       " ('Crime', 29),\n",
       " ('Comedy', 24),\n",
       " ('Action', 24),\n",
       " ('Mystery', 18),\n",
       " ('Adventure', 18),\n",
       " ('Thriller', 13),\n",
       " ('Fantasy', 9),\n",
       " ('Sci-Fi', 9),\n",
       " ('Romance', 7),\n",
       " ('Horror', 7),\n",
       " ('History', 4),\n",
       " ('Animation', 3),\n",
       " ('Family', 3),\n",
       " ('Biography', 1),\n",
       " ('Western', 1),\n",
       " ('War', 1)]"
      ]
     },
     "execution_count": 4,
     "metadata": {},
     "output_type": "execute_result"
    }
   ],
   "source": [
    "shows['Genre_list'] = shows['genre'].str.split(',') # convert genre string list into list of genres\n",
    "all_genre_tags = shows['Genre_list'].sum() # concat all the genres for top 100 TV shows into one list\n",
    "\n",
    "popular_genre = Counter(all_genre_tags)\n",
    "popular_genre.most_common()"
   ]
  },
  {
   "cell_type": "code",
   "execution_count": 7,
   "metadata": {},
   "outputs": [
    {
     "data": {
      "image/png": "[encoded data removed]",
      "text/plain": [
       "<Figure size 432x288 with 1 Axes>"
      ]
     },
     "metadata": {
      "needs_background": "light"
     },
     "output_type": "display_data"
    }
   ],
   "source": [
    "plt.bar(popular_genre.keys(), popular_genre.values())\n",
    "plt.xticks(rotation = 90);"
   ]
  },
  {
   "cell_type": "markdown",
   "metadata": {},
   "source": [
    "# Drama Wins with 79 titles ! followed by Crime and Comedy and Action "
   ]
  },
  {
   "cell_type": "code",
   "execution_count": null,
   "metadata": {},
   "outputs": [],
   "source": []
  }
 ],
 "metadata": {
  "kernelspec": {
   "display_name": "Python 3",
   "language": "python",
   "name": "python3"
  },
  "language_info": {
   "codemirror_mode": {
    "name": "ipython",
    "version": 3
   },
   "file_extension": ".py",
   "mimetype": "text/x-python",
   "name": "python",
   "nbconvert_exporter": "python",
   "pygments_lexer": "ipython3",
   "version": "3.6.7"
  }
 },
 "nbformat": 4,
 "nbformat_minor": 2
}
